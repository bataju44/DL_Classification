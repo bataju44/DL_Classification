{
 "cells": [
  {
   "cell_type": "code",
   "execution_count": 19,
   "metadata": {
    "collapsed": true
   },
   "outputs": [],
   "source": [
    "import numpy as np\n",
    "\n",
    "\n"
   ]
  },
  {
   "cell_type": "code",
   "execution_count": 20,
   "metadata": {},
   "outputs": [
    {
     "name": "stdout",
     "output_type": "stream",
     "text": [
      "[1.6580627893946132, 1.2566370614359172, 1.0471975511965976, 0.6108652381980153, 0.3141592653589793, 0.08726646259971647] 4.6569203186574765e+23\n"
     ]
    }
   ],
   "source": [
    "m = 939.57 #Mev\n",
    "E = 50 #Mev\n",
    "hbar = 6.582119514e-22# Mev.s\n",
    "k = np.sqrt(2*m*E)/hbar\n",
    "theta = [a*np.pi/180 for a in [95,72,60,35,18,5]] #in radians\n",
    "print theta, k"
   ]
  },
  {
   "cell_type": "code",
   "execution_count": 21,
   "metadata": {},
   "outputs": [
    {
     "data": {
      "text/plain": [
       "3.211389797128511e-45"
      ]
     },
     "execution_count": 21,
     "metadata": {},
     "output_type": "execute_result"
    }
   ],
   "source": [
    "y = lambda l: (2l+1)*np.sin(theta)**2\n",
    "S = [y(l) for l in range(6)]\n",
    "sigma = 4*np.pi*np.sum(S)/(k**2)\n",
    "sigma"
   ]
  },
  {
   "cell_type": "code",
   "execution_count": 22,
   "metadata": {},
   "outputs": [
    {
     "name": "stdout",
     "output_type": "stream",
     "text": [
      "the sum is:  9.236969785011496\n",
      "the sigma:  5.35231632854752e-46\n"
     ]
    }
   ],
   "source": [
    "s= []\n",
    "for i in theta:\n",
    "    l = theta.index(i)\n",
    "    s.append((2l+1)*(np.sin(i)**2))\n",
    "print \"the sum is: \",sum(s)\n",
    "sig = 4*np.pi*sum(s)/(k**2)\n",
    "print \"the sigma: \", sig"
   ]
  },
  {
   "cell_type": "code",
   "execution_count": 23,
   "metadata": {},
   "outputs": [
    {
     "name": "stdout",
     "output_type": "stream",
     "text": [
      "the radius:  1.3052567568718446e-23\n"
     ]
    }
   ],
   "source": [
    "r = np.sqrt(sig/np.pi)\n",
    "print \"the radius: \",r"
   ]
  },
  {
   "cell_type": "code",
   "execution_count": null,
   "metadata": {
    "collapsed": true
   },
   "outputs": [],
   "source": []
  }
 ],
 "metadata": {
  "kernelspec": {
   "display_name": "Python 2",
   "language": "python",
   "name": "python2"
  },
  "language_info": {
   "codemirror_mode": {
    "name": "ipython",
    "version": 2
   },
   "file_extension": ".py",
   "mimetype": "text/x-python",
   "name": "python",
   "nbconvert_exporter": "python",
   "pygments_lexer": "ipython2",
   "version": "2.7.12"
  }
 },
 "nbformat": 4,
 "nbformat_minor": 2
}
