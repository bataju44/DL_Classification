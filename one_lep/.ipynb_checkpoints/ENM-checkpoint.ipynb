{
 "cells": [
  {
   "cell_type": "code",
   "execution_count": 1,
   "metadata": {
    "collapsed": true
   },
   "outputs": [],
   "source": [
    "import numpy as np\n",
    "import matplotlib.pyplot as plt\n",
    "%matplotlib inline\n",
    "\n",
    "rad = lambda "
   ]
  },
  {
   "cell_type": "code",
   "execution_count": 2,
   "metadata": {},
   "outputs": [
    {
     "data": {
      "text/plain": [
       "4.6569203186574765e+23"
      ]
     },
     "execution_count": 2,
     "metadata": {},
     "output_type": "execute_result"
    }
   ],
   "source": [
    "m = 939.57 #Mev\n",
    "E = 50 #Mev\n",
    "hbar = 6.582119514e-22# Mev.s\n",
    "k = np.sqrt(2*m*E)/hbar\n",
    "theta = [a*np.pi/180 for a in [95,72,60,35,18,5]] #degrees\n",
    "k"
   ]
  },
  {
   "cell_type": "code",
   "execution_count": 3,
   "metadata": {
    "collapsed": true
   },
   "outputs": [],
   "source": [
    "y = lambda l: (2l+1)*np.sin(theta)**2\n",
    "S = [y(l) for l in range(6)]\n",
    "sigma = 4*np.pi*np.sum(S)/(k**2)\n"
   ]
  },
  {
   "cell_type": "code",
   "execution_count": 6,
   "metadata": {},
   "outputs": [
    {
     "name": "stdout",
     "output_type": "stream",
     "text": [
      "[1.6580627893946132, 1.2566370614359172, 1.0471975511965976, 0.6108652381980153, 0.3141592653589793, 0.08726646259971647]\n",
      "5.35231632854752e-46\n"
     ]
    }
   ],
   "source": [
    "print theta\n",
    "s= []\n",
    "for i in theta:\n",
    "    l = theta.index(i)\n",
    "    s.append((2l+1)*(np.sin(i)**2))\n",
    "    \n",
    "sig = 4*np.pi*np.sum(s)/(k**2)\n",
    "print sig"
   ]
  },
  {
   "cell_type": "code",
   "execution_count": 5,
   "metadata": {},
   "outputs": [
    {
     "name": "stdout",
     "output_type": "stream",
     "text": [
      "1.3052567568718446e-23\n"
     ]
    }
   ],
   "source": [
    "r = np.sqrt(sig/np.pi)\n",
    "print r"
   ]
  },
  {
   "cell_type": "code",
   "execution_count": 9,
   "metadata": {
    "collapsed": true
   },
   "outputs": [],
   "source": [
    "X = lambda x : np.sin(x)\n",
    "Y = lambda y : np.cos(y)"
   ]
  },
  {
   "cell_type": "code",
   "execution_count": 11,
   "metadata": {},
   "outputs": [
    {
     "data": {
      "text/plain": [
       "array([0.0000000e+00, 1.0000000e+00, 1.2246468e-16])"
      ]
     },
     "execution_count": 11,
     "metadata": {},
     "output_type": "execute_result"
    }
   ],
   "source": []
  },
  {
   "cell_type": "code",
   "execution_count": null,
   "metadata": {
    "collapsed": true
   },
   "outputs": [],
   "source": []
  }
 ],
 "metadata": {
  "kernelspec": {
   "display_name": "Python 2",
   "language": "python",
   "name": "python2"
  },
  "language_info": {
   "codemirror_mode": {
    "name": "ipython",
    "version": 2
   },
   "file_extension": ".py",
   "mimetype": "text/x-python",
   "name": "python",
   "nbconvert_exporter": "python",
   "pygments_lexer": "ipython2",
   "version": "2.7.12"
  }
 },
 "nbformat": 4,
 "nbformat_minor": 2
}
